{
 "cells": [
  {
   "cell_type": "code",
   "execution_count": 58,
   "metadata": {},
   "outputs": [],
   "source": [
    "import plotly\n",
    "plotly.tools.set_credentials_file(username='peytonrunyan', api_key='68GXBmyFht8zjMRPuFnC')\n",
    "import plotly.plotly as py\n",
    "import plotly.graph_objs as go"
   ]
  },
  {
   "cell_type": "code",
   "execution_count": 59,
   "metadata": {},
   "outputs": [],
   "source": [
    "import numpy as np\n",
    "import pandas as pd"
   ]
  },
  {
   "cell_type": "code",
   "execution_count": 86,
   "metadata": {},
   "outputs": [],
   "source": [
    "df = pd.DataFrame(np.random.randint(low=2, high=5, size=(31, 5)),\n",
    "             columns=['mood', 'coffee', 'drinks', 'sleep', 'exercise'])"
   ]
  },
  {
   "cell_type": "code",
   "execution_count": 87,
   "metadata": {},
   "outputs": [],
   "source": [
    "dates = ['2017-03-1','2017-03-2','2017-03-3','2017-03-4','2017-03-5','2017-03-6','2017-03-7','2017-03-8','2017-03-9','2017-03-10','2017-03-11','2017-03-12','2017-03-13','2017-03-14','2017-03-15','2017-03-16','2017-03-17','2017-03-18','2017-03-19','2017-03-20','2017-03-21','2017-03-22','2017-03-23','2017-03-24','2017-03-25','2017-03-26','2017-03-27','2017-03-28','2017-03-29','2017-03-30','2017-03-31']"
   ]
  },
  {
   "cell_type": "code",
   "execution_count": 88,
   "metadata": {},
   "outputs": [],
   "source": [
    "df['date'] = pd.to_datetime(dates)"
   ]
  },
  {
   "cell_type": "code",
   "execution_count": 89,
   "metadata": {},
   "outputs": [],
   "source": [
    "df['mood_str'] = df['mood']"
   ]
  },
  {
   "cell_type": "code",
   "execution_count": 90,
   "metadata": {},
   "outputs": [],
   "source": [
    "pd.options.mode.chained_assignment = None\n",
    "for i in range(len(df)):\n",
    "    df['mood_str'][i] = ('Mood: '+str(df['mood'][i]))"
   ]
  },
  {
   "cell_type": "code",
   "execution_count": 93,
   "metadata": {
    "scrolled": true
   },
   "outputs": [],
   "source": [
    "trace1 = go.Scatter(\n",
    "    x = df['date'],\n",
    "    y = df['mood'],\n",
    "    mode = 'lines',\n",
    "    name = 'Mood Score',\n",
    "    marker = dict(color='blue'))\n",
    "\n",
    "trace2 = go.Scatter(\n",
    "    visible = False,\n",
    "    x = df['date'],\n",
    "    y = df['coffee'],\n",
    "    mode = 'lines',\n",
    "    name= 'Coffees',\n",
    "    text= df['mood_str'],\n",
    "    hoverinfo=('text'),\n",
    "    marker = dict(color = 'green'))\n",
    "\n",
    "\n",
    "trace3 = go.Scatter(\n",
    "    visible = False,\n",
    "    x = df['date'],\n",
    "    y = df['drinks'],\n",
    "    mode = 'lines',\n",
    "    name= 'Drinks',\n",
    "    text= df['mood_str'],\n",
    "    marker = dict(color = 'green'))\n",
    "\n",
    "trace4 = go.Scatter(\n",
    "    visible = False,\n",
    "    x = df['date'],\n",
    "    y = df['sleep'],\n",
    "    mode = 'lines',\n",
    "    name= 'Sleep',\n",
    "    text= df['mood_str'],\n",
    "    marker = dict(color = 'green'))\n",
    "\n",
    "trace5 = go.Scatter(\n",
    "    visible = False,\n",
    "    x = df['date'],\n",
    "    y = df['exercise'],\n",
    "    mode = 'lines',\n",
    "    name= 'Exercise',\n",
    "    text= df['mood_str'],\n",
    "    marker = dict(color = 'green'))\n",
    "\n",
    "data = [trace1, trace2, trace3, trace4, trace5]\n",
    "\n",
    "updatemenus = list([\n",
    "    dict(active=-1,\n",
    "         buttons=list([   \n",
    "            dict(label = 'Mood',\n",
    "                 method = 'update',\n",
    "                 args = [{'visible': [True, False, False, False, False]},\n",
    "                         {'title': 'Mood'}]),\n",
    "             dict(label = 'Coffee',\n",
    "                 method = 'update',\n",
    "                 args = [{'visible': [False, True, False, False, False]},\n",
    "                         {'title': 'Coffee'}]),\n",
    "             dict(label = 'Drinks',\n",
    "                 method = 'update',\n",
    "                 args = [{'visible': [False, False, True, False, False]},\n",
    "                         {'title': 'Drinks'}]),\n",
    "             dict(label = 'Sleep',\n",
    "                 method = 'update',\n",
    "                 args = [{'visible': [False, False, False, True, False]},\n",
    "                         {'title': 'Sleep'}]),\n",
    "             dict(label = 'Exercise',\n",
    "                 method = 'update',\n",
    "                 args = [{'visible': [False, False, False, False, True]},\n",
    "                         {'title': 'Exercise'}]),\n",
    "           \n",
    "         ])\n",
    "    )\n",
    "])\n",
    "\n",
    "layout = dict(title = 'Mood',\n",
    "              xaxis= dict(title='Date', ticklen = 5, \n",
    "                          zeroline=False),\n",
    "              autosize=False,\n",
    "              width=750,\n",
    "              height=500,\n",
    "             showlegend=False,\n",
    "             updatemenus=updatemenus)\n",
    "\n",
    "fig = dict(data = data, layout = layout)\n",
    "plot_url = py.iplot(fig, filename='plot from API (12)')"
   ]
  },
  {
   "cell_type": "code",
   "execution_count": null,
   "metadata": {},
   "outputs": [],
   "source": []
  },
  {
   "cell_type": "code",
   "execution_count": null,
   "metadata": {},
   "outputs": [],
   "source": []
  }
 ],
 "metadata": {
  "kernelspec": {
   "display_name": "Python 3",
   "language": "python",
   "name": "python3"
  },
  "language_info": {
   "codemirror_mode": {
    "name": "ipython",
    "version": 3
   },
   "file_extension": ".py",
   "mimetype": "text/x-python",
   "name": "python",
   "nbconvert_exporter": "python",
   "pygments_lexer": "ipython3",
   "version": "3.6.5"
  }
 },
 "nbformat": 4,
 "nbformat_minor": 2
}
